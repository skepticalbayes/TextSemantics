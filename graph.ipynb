{
 "cells": [
  {
   "cell_type": "code",
   "execution_count": 1,
   "metadata": {},
   "outputs": [],
   "source": [
    "import pandas as pd"
   ]
  },
  {
   "cell_type": "code",
   "execution_count": 4,
   "metadata": {},
   "outputs": [],
   "source": [
    "import tensorflow_hub as hub\n",
    "import tensorflow as tf\n",
    "import os"
   ]
  },
  {
   "cell_type": "code",
   "execution_count": null,
   "metadata": {},
   "outputs": [],
   "source": [
    "import nltk\n",
    "\n",
    "STOP = set(nltk.corpus.stopwords.words(\"english\"))\n",
    "\n",
    "class Sentence:\n",
    "    \n",
    "    def __init__(self, sentence):\n",
    "        self.raw = sentence\n",
    "#         normalized_sentence = sentence.replace(\"‘\", \"'\").replace(\"’\", \"'\")\n",
    "        self.tokens = [t.lower() for t in nltk.word_tokenize(sentence)]\n",
    "        self.tokens_without_stop = [t for t in self.tokens if t not in STOP]"
   ]
  },
  {
   "cell_type": "code",
   "execution_count": null,
   "metadata": {},
   "outputs": [],
   "source": [
    "df_hc.keyword = df_hc.keyword.apply(lambda x: re.sub(r'[\\/]',' ',x))\n",
    "df_hc.keyword = df_hc.keyword.apply(lambda x: re.sub(r'[-]',' ',x))\n",
    "df_hc.keyword = df_hc.keyword.apply(lambda x: re.sub(r'[\\s]+',' ',x))\n",
    "df_hc[df_hc.keyword == '']\n",
    "df_hc['sents'] = df_hc.keyword.apply(lambda x: ' '.join(Sentence(x).tokens_without_stop))"
   ]
  },
  {
   "cell_type": "code",
   "execution_count": null,
   "metadata": {},
   "outputs": [],
   "source": [
    "embed = hub.Module('https://tfhub.dev/google/universal-sentence-encoder-large/3')"
   ]
  },
  {
   "cell_type": "code",
   "execution_count": null,
   "metadata": {},
   "outputs": [],
   "source": [
    "embeddings = []\n",
    "with tf.Session() as session:\n",
    "    session.run([tf.global_variables_initializer(), tf.tables_initializer()])\n",
    "    embeddings = session.run(embed(df_hc.sents.tolist()))"
   ]
  },
  {
   "cell_type": "code",
   "execution_count": null,
   "metadata": {},
   "outputs": [],
   "source": [
    "df_hc['embedding'] = None\n",
    "for i in list(df_hc.index):\n",
    "    df_hc.set_value(index=i, col='embedding', value=embeddings[i])\n",
    "df_hc.head()"
   ]
  },
  {
   "cell_type": "code",
   "execution_count": 140,
   "metadata": {},
   "outputs": [],
   "source": [
    "# a = df_embed.sample(20)\n",
    "# a"
   ]
  },
  {
   "cell_type": "code",
   "execution_count": 139,
   "metadata": {},
   "outputs": [],
   "source": [
    "# df_hc = a"
   ]
  },
  {
   "cell_type": "code",
   "execution_count": 138,
   "metadata": {},
   "outputs": [],
   "source": [
    "# df_ = pd.DataFrame.from_items(zip(df_hc.embedding.index, df_hc.embedding.values)).T\n",
    "# df_.head()"
   ]
  },
  {
   "cell_type": "code",
   "execution_count": 123,
   "metadata": {},
   "outputs": [],
   "source": [
    "from sklearn.manifold import TSNE\n",
    "import numpy as np\n",
    "tsne_model_en_2d = TSNE(perplexity=30, n_components=2, init='pca', n_iter=3500, random_state=32)\n",
    "# embeddings_en_2d = np.array(tsne_model_en_2d.fit_transform(df_))\n",
    "embeddings_en_2d = np.array(tsne_model_en_2d.fit_transform(embeddings))\n",
    "df_hc['x1'] = embeddings_en_2d[:, 0]\n",
    "df_hc['y1'] = embeddings_en_2d[:, 1]"
   ]
  },
  {
   "cell_type": "code",
   "execution_count": 124,
   "metadata": {},
   "outputs": [
    {
     "data": {
      "text/html": [
       "<div>\n",
       "<style scoped>\n",
       "    .dataframe tbody tr th:only-of-type {\n",
       "        vertical-align: middle;\n",
       "    }\n",
       "\n",
       "    .dataframe tbody tr th {\n",
       "        vertical-align: top;\n",
       "    }\n",
       "\n",
       "    .dataframe thead th {\n",
       "        text-align: right;\n",
       "    }\n",
       "</style>\n",
       "<table border=\"1\" class=\"dataframe\">\n",
       "  <thead>\n",
       "    <tr style=\"text-align: right;\">\n",
       "      <th></th>\n",
       "      <th>sents</th>\n",
       "      <th>embedding</th>\n",
       "      <th>x1</th>\n",
       "      <th>y1</th>\n",
       "    </tr>\n",
       "  </thead>\n",
       "  <tbody>\n",
       "    <tr>\n",
       "      <th>3659</th>\n",
       "      <td>hypertension</td>\n",
       "      <td>[-0.02381404, 0.01688445, -0.027617605, -0.032...</td>\n",
       "      <td>-268.441681</td>\n",
       "      <td>-632.560730</td>\n",
       "    </tr>\n",
       "    <tr>\n",
       "      <th>2254</th>\n",
       "      <td>babesiosis</td>\n",
       "      <td>[-0.023700295, 0.004752079, 0.020919636, -0.01...</td>\n",
       "      <td>-471.195404</td>\n",
       "      <td>683.157593</td>\n",
       "    </tr>\n",
       "    <tr>\n",
       "      <th>2708</th>\n",
       "      <td>orbital surgery</td>\n",
       "      <td>[0.0625993, 0.013124733, -0.0042589367, -0.017...</td>\n",
       "      <td>-72.664268</td>\n",
       "      <td>432.296814</td>\n",
       "    </tr>\n",
       "    <tr>\n",
       "      <th>1608</th>\n",
       "      <td>pimples</td>\n",
       "      <td>[-0.0044431803, -0.003657779, -0.0081782, -0.0...</td>\n",
       "      <td>-165.546829</td>\n",
       "      <td>43.825447</td>\n",
       "    </tr>\n",
       "    <tr>\n",
       "      <th>3484</th>\n",
       "      <td>alopecia areata treatment</td>\n",
       "      <td>[0.0294933, 0.017332012, -0.006409007, 0.00635...</td>\n",
       "      <td>-15.864203</td>\n",
       "      <td>-297.577911</td>\n",
       "    </tr>\n",
       "  </tbody>\n",
       "</table>\n",
       "</div>"
      ],
      "text/plain": [
       "                          sents  \\\n",
       "3659               hypertension   \n",
       "2254                 babesiosis   \n",
       "2708            orbital surgery   \n",
       "1608                    pimples   \n",
       "3484  alopecia areata treatment   \n",
       "\n",
       "                                              embedding          x1  \\\n",
       "3659  [-0.02381404, 0.01688445, -0.027617605, -0.032... -268.441681   \n",
       "2254  [-0.023700295, 0.004752079, 0.020919636, -0.01... -471.195404   \n",
       "2708  [0.0625993, 0.013124733, -0.0042589367, -0.017...  -72.664268   \n",
       "1608  [-0.0044431803, -0.003657779, -0.0081782, -0.0... -165.546829   \n",
       "3484  [0.0294933, 0.017332012, -0.006409007, 0.00635...  -15.864203   \n",
       "\n",
       "              y1  \n",
       "3659 -632.560730  \n",
       "2254  683.157593  \n",
       "2708  432.296814  \n",
       "1608   43.825447  \n",
       "3484 -297.577911  "
      ]
     },
     "execution_count": 124,
     "metadata": {},
     "output_type": "execute_result"
    }
   ],
   "source": [
    "df_hc[['sents', 'embedding', 'x1', 'y1']].head()"
   ]
  },
  {
   "cell_type": "code",
   "execution_count": 125,
   "metadata": {},
   "outputs": [
    {
     "data": {
      "text/html": [
       "<div>\n",
       "<style scoped>\n",
       "    .dataframe tbody tr th:only-of-type {\n",
       "        vertical-align: middle;\n",
       "    }\n",
       "\n",
       "    .dataframe tbody tr th {\n",
       "        vertical-align: top;\n",
       "    }\n",
       "\n",
       "    .dataframe thead th {\n",
       "        text-align: right;\n",
       "    }\n",
       "</style>\n",
       "<table border=\"1\" class=\"dataframe\">\n",
       "  <thead>\n",
       "    <tr style=\"text-align: right;\">\n",
       "      <th></th>\n",
       "      <th>sents</th>\n",
       "      <th>embedding</th>\n",
       "      <th>x1</th>\n",
       "      <th>y1</th>\n",
       "    </tr>\n",
       "  </thead>\n",
       "  <tbody>\n",
       "    <tr>\n",
       "      <th>0</th>\n",
       "      <td>hypertension</td>\n",
       "      <td>[-0.02381404, 0.01688445, -0.027617605, -0.032...</td>\n",
       "      <td>-268.441681</td>\n",
       "      <td>-632.560730</td>\n",
       "    </tr>\n",
       "    <tr>\n",
       "      <th>1</th>\n",
       "      <td>babesiosis</td>\n",
       "      <td>[-0.023700295, 0.004752079, 0.020919636, -0.01...</td>\n",
       "      <td>-471.195404</td>\n",
       "      <td>683.157593</td>\n",
       "    </tr>\n",
       "    <tr>\n",
       "      <th>2</th>\n",
       "      <td>orbital surgery</td>\n",
       "      <td>[0.0625993, 0.013124733, -0.0042589367, -0.017...</td>\n",
       "      <td>-72.664268</td>\n",
       "      <td>432.296814</td>\n",
       "    </tr>\n",
       "    <tr>\n",
       "      <th>3</th>\n",
       "      <td>pimples</td>\n",
       "      <td>[-0.0044431803, -0.003657779, -0.0081782, -0.0...</td>\n",
       "      <td>-165.546829</td>\n",
       "      <td>43.825447</td>\n",
       "    </tr>\n",
       "    <tr>\n",
       "      <th>4</th>\n",
       "      <td>alopecia areata treatment</td>\n",
       "      <td>[0.0294933, 0.017332012, -0.006409007, 0.00635...</td>\n",
       "      <td>-15.864203</td>\n",
       "      <td>-297.577911</td>\n",
       "    </tr>\n",
       "  </tbody>\n",
       "</table>\n",
       "</div>"
      ],
      "text/plain": [
       "                       sents  \\\n",
       "0               hypertension   \n",
       "1                 babesiosis   \n",
       "2            orbital surgery   \n",
       "3                    pimples   \n",
       "4  alopecia areata treatment   \n",
       "\n",
       "                                           embedding          x1          y1  \n",
       "0  [-0.02381404, 0.01688445, -0.027617605, -0.032... -268.441681 -632.560730  \n",
       "1  [-0.023700295, 0.004752079, 0.020919636, -0.01... -471.195404  683.157593  \n",
       "2  [0.0625993, 0.013124733, -0.0042589367, -0.017...  -72.664268  432.296814  \n",
       "3  [-0.0044431803, -0.003657779, -0.0081782, -0.0... -165.546829   43.825447  \n",
       "4  [0.0294933, 0.017332012, -0.006409007, 0.00635...  -15.864203 -297.577911  "
      ]
     },
     "execution_count": 125,
     "metadata": {},
     "output_type": "execute_result"
    }
   ],
   "source": [
    "df_hc.reset_index(drop=True, inplace=True)\n",
    "df_hc = df_hc[['sents', 'embedding', 'x1', 'y1']]\n",
    "df_hc.head()"
   ]
  },
  {
   "cell_type": "code",
   "execution_count": 126,
   "metadata": {},
   "outputs": [],
   "source": [
    "from sklearn.metrics import pairwise_distances\n",
    "distance = pairwise_distances(X=df_, Y=df_, metric='cosine')"
   ]
  },
  {
   "cell_type": "code",
   "execution_count": 127,
   "metadata": {},
   "outputs": [],
   "source": [
    "distance = 1 - distance"
   ]
  },
  {
   "cell_type": "code",
   "execution_count": 134,
   "metadata": {},
   "outputs": [],
   "source": [
    "data = []\n",
    "for i, row in df_hc.iterrows():\n",
    "    data.append({'count': 1,\n",
    "                 'text': row['sents'],\n",
    "                 'id': i,\n",
    "                 'x': row['x1'],\n",
    "                 'y': row['y1'],\n",
    "                 'similar': []})\n",
    "    for ix, r in df_hc[df_hc.sents != row['sents']].iterrows():\n",
    "        data[-1]['similar'].append({'count': 1,\n",
    "                                    'text': r['sents'],\n",
    "                                    'id': ix,\n",
    "                                    'score': round(distance[i][ix], 2)})"
   ]
  },
  {
   "cell_type": "code",
   "execution_count": 137,
   "metadata": {},
   "outputs": [],
   "source": [
    "import json\n",
    "with open('static/js/data.json', 'w') as outfile:\n",
    "    json.dump(data, outfile)"
   ]
  },
  {
   "cell_type": "code",
   "execution_count": null,
   "metadata": {},
   "outputs": [],
   "source": []
  }
 ],
 "metadata": {
  "kernelspec": {
   "display_name": "Python 2",
   "language": "python",
   "name": "python2"
  },
  "language_info": {
   "codemirror_mode": {
    "name": "ipython",
    "version": 2
   },
   "file_extension": ".py",
   "mimetype": "text/x-python",
   "name": "python",
   "nbconvert_exporter": "python",
   "pygments_lexer": "ipython2",
   "version": "2.7.6"
  }
 },
 "nbformat": 4,
 "nbformat_minor": 2
}
